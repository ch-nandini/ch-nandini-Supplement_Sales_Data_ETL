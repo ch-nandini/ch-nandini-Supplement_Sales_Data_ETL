{
  "nbformat": 4,
  "nbformat_minor": 0,
  "metadata": {
    "colab": {
      "provenance": []
    },
    "kernelspec": {
      "name": "python3",
      "display_name": "Python 3"
    },
    "language_info": {
      "name": "python"
    }
  },
  "cells": [
    {
      "cell_type": "code",
      "execution_count": 1,
      "metadata": {
        "id": "CQsPnQ-7-p0y"
      },
      "outputs": [],
      "source": [
        "# Import the library and load the CSV file\n",
        "import pandas as pd\n",
        "\n",
        "df = pd.read_csv(\"sales_data.csv\")"
      ]
    },
    {
      "cell_type": "code",
      "source": [
        "print(df)"
      ],
      "metadata": {
        "colab": {
          "base_uri": "https://localhost:8080/"
        },
        "id": "uL8BStw3-6VI",
        "outputId": "4d10a4c6-2a44-4108-ba3a-bf6f3573bd32"
      },
      "execution_count": 4,
      "outputs": [
        {
          "output_type": "stream",
          "name": "stdout",
          "text": [
            "            Date        Product Name     Category  Units Sold  Price  Revenue  \\\n",
            "0     2020-01-06        Whey Protein      Protein         143  31.98  4573.14   \n",
            "1     2020-01-06           Vitamin C      Vitamin         139  42.51  5908.89   \n",
            "2     2020-01-06            Fish Oil        Omega         161  12.91  2078.51   \n",
            "3     2020-01-06        Multivitamin      Vitamin         140  16.07  2249.80   \n",
            "4     2020-01-06         Pre-Workout  Performance         157  35.47  5568.79   \n",
            "...          ...                 ...          ...         ...    ...      ...   \n",
            "4379  2025-03-31           Melatonin    Sleep Aid         160  47.79  7646.40   \n",
            "4380  2025-03-31              Biotin      Vitamin         154  38.12  5870.48   \n",
            "4381  2025-03-31   Green Tea Extract   Fat Burner         139  20.40  2835.60   \n",
            "4382  2025-03-31     Iron Supplement      Mineral         154  18.31  2819.74   \n",
            "4383  2025-03-31  Electrolyte Powder    Hydration         178  39.12  6963.36   \n",
            "\n",
            "      Discount  Units Returned Location Platform  \n",
            "0         0.03               2   Canada  Walmart  \n",
            "1         0.04               0       UK   Amazon  \n",
            "2         0.25               0   Canada   Amazon  \n",
            "3         0.08               0   Canada  Walmart  \n",
            "4         0.25               3   Canada    iHerb  \n",
            "...        ...             ...      ...      ...  \n",
            "4379      0.21               1      USA    iHerb  \n",
            "4380      0.22               1       UK  Walmart  \n",
            "4381      0.12               3      USA    iHerb  \n",
            "4382      0.23               2   Canada   Amazon  \n",
            "4383      0.23               0       UK    iHerb  \n",
            "\n",
            "[4384 rows x 10 columns]\n"
          ]
        }
      ]
    },
    {
      "cell_type": "code",
      "source": [
        "# Make sure columns are in the correct format(the data types)\n",
        "\n",
        "df['Date'] = pd.to_datetime(df['Date'])"
      ],
      "metadata": {
        "id": "BN9PN9iy_JpA"
      },
      "execution_count": 23,
      "outputs": []
    },
    {
      "cell_type": "code",
      "source": [
        "print(df)"
      ],
      "metadata": {
        "colab": {
          "base_uri": "https://localhost:8080/"
        },
        "id": "jyaB04nY_jw7",
        "outputId": "f6b478eb-c882-4649-a10d-fcf1822d0048"
      },
      "execution_count": 6,
      "outputs": [
        {
          "output_type": "stream",
          "name": "stdout",
          "text": [
            "           Date        Product Name     Category  Units Sold  Price  Revenue  \\\n",
            "0    2020-01-06        Whey Protein      Protein         143  31.98  4573.14   \n",
            "1    2020-01-06           Vitamin C      Vitamin         139  42.51  5908.89   \n",
            "2    2020-01-06            Fish Oil        Omega         161  12.91  2078.51   \n",
            "3    2020-01-06        Multivitamin      Vitamin         140  16.07  2249.80   \n",
            "4    2020-01-06         Pre-Workout  Performance         157  35.47  5568.79   \n",
            "...         ...                 ...          ...         ...    ...      ...   \n",
            "4379 2025-03-31           Melatonin    Sleep Aid         160  47.79  7646.40   \n",
            "4380 2025-03-31              Biotin      Vitamin         154  38.12  5870.48   \n",
            "4381 2025-03-31   Green Tea Extract   Fat Burner         139  20.40  2835.60   \n",
            "4382 2025-03-31     Iron Supplement      Mineral         154  18.31  2819.74   \n",
            "4383 2025-03-31  Electrolyte Powder    Hydration         178  39.12  6963.36   \n",
            "\n",
            "      Discount  Units Returned Location Platform  \n",
            "0         0.03               2   Canada  Walmart  \n",
            "1         0.04               0       UK   Amazon  \n",
            "2         0.25               0   Canada   Amazon  \n",
            "3         0.08               0   Canada  Walmart  \n",
            "4         0.25               3   Canada    iHerb  \n",
            "...        ...             ...      ...      ...  \n",
            "4379      0.21               1      USA    iHerb  \n",
            "4380      0.22               1       UK  Walmart  \n",
            "4381      0.12               3      USA    iHerb  \n",
            "4382      0.23               2   Canada   Amazon  \n",
            "4383      0.23               0       UK    iHerb  \n",
            "\n",
            "[4384 rows x 10 columns]\n"
          ]
        }
      ]
    },
    {
      "cell_type": "code",
      "source": [
        "# Check for null values\n",
        "df.isnull().sum()"
      ],
      "metadata": {
        "colab": {
          "base_uri": "https://localhost:8080/",
          "height": 429
        },
        "id": "Vj_oguvW_0rf",
        "outputId": "e78c158a-08d1-4e85-9ab6-e72dc7eefd45"
      },
      "execution_count": 25,
      "outputs": [
        {
          "output_type": "execute_result",
          "data": {
            "text/plain": [
              "Date              0\n",
              "Product Name      0\n",
              "Category          0\n",
              "Units Sold        0\n",
              "Price             0\n",
              "Revenue           0\n",
              "Discount          0\n",
              "Units Returned    0\n",
              "Location          0\n",
              "Platform          0\n",
              "Month             0\n",
              "dtype: int64"
            ],
            "text/html": [
              "<div>\n",
              "<style scoped>\n",
              "    .dataframe tbody tr th:only-of-type {\n",
              "        vertical-align: middle;\n",
              "    }\n",
              "\n",
              "    .dataframe tbody tr th {\n",
              "        vertical-align: top;\n",
              "    }\n",
              "\n",
              "    .dataframe thead th {\n",
              "        text-align: right;\n",
              "    }\n",
              "</style>\n",
              "<table border=\"1\" class=\"dataframe\">\n",
              "  <thead>\n",
              "    <tr style=\"text-align: right;\">\n",
              "      <th></th>\n",
              "      <th>0</th>\n",
              "    </tr>\n",
              "  </thead>\n",
              "  <tbody>\n",
              "    <tr>\n",
              "      <th>Date</th>\n",
              "      <td>0</td>\n",
              "    </tr>\n",
              "    <tr>\n",
              "      <th>Product Name</th>\n",
              "      <td>0</td>\n",
              "    </tr>\n",
              "    <tr>\n",
              "      <th>Category</th>\n",
              "      <td>0</td>\n",
              "    </tr>\n",
              "    <tr>\n",
              "      <th>Units Sold</th>\n",
              "      <td>0</td>\n",
              "    </tr>\n",
              "    <tr>\n",
              "      <th>Price</th>\n",
              "      <td>0</td>\n",
              "    </tr>\n",
              "    <tr>\n",
              "      <th>Revenue</th>\n",
              "      <td>0</td>\n",
              "    </tr>\n",
              "    <tr>\n",
              "      <th>Discount</th>\n",
              "      <td>0</td>\n",
              "    </tr>\n",
              "    <tr>\n",
              "      <th>Units Returned</th>\n",
              "      <td>0</td>\n",
              "    </tr>\n",
              "    <tr>\n",
              "      <th>Location</th>\n",
              "      <td>0</td>\n",
              "    </tr>\n",
              "    <tr>\n",
              "      <th>Platform</th>\n",
              "      <td>0</td>\n",
              "    </tr>\n",
              "    <tr>\n",
              "      <th>Month</th>\n",
              "      <td>0</td>\n",
              "    </tr>\n",
              "  </tbody>\n",
              "</table>\n",
              "</div><br><label><b>dtype:</b> int64</label>"
            ]
          },
          "metadata": {},
          "execution_count": 25
        }
      ]
    },
    {
      "cell_type": "code",
      "source": [
        "# Check out the data types\n",
        "df.dtypes"
      ],
      "metadata": {
        "colab": {
          "base_uri": "https://localhost:8080/",
          "height": 429
        },
        "id": "iC6xft1M_1LB",
        "outputId": "e01b2df8-61db-4975-cb14-2aaa546f3335"
      },
      "execution_count": 26,
      "outputs": [
        {
          "output_type": "execute_result",
          "data": {
            "text/plain": [
              "Date              datetime64[ns]\n",
              "Product Name              object\n",
              "Category                  object\n",
              "Units Sold                 int64\n",
              "Price                    float64\n",
              "Revenue                  float64\n",
              "Discount                 float64\n",
              "Units Returned             int64\n",
              "Location                  object\n",
              "Platform                  object\n",
              "Month                  period[M]\n",
              "dtype: object"
            ],
            "text/html": [
              "<div>\n",
              "<style scoped>\n",
              "    .dataframe tbody tr th:only-of-type {\n",
              "        vertical-align: middle;\n",
              "    }\n",
              "\n",
              "    .dataframe tbody tr th {\n",
              "        vertical-align: top;\n",
              "    }\n",
              "\n",
              "    .dataframe thead th {\n",
              "        text-align: right;\n",
              "    }\n",
              "</style>\n",
              "<table border=\"1\" class=\"dataframe\">\n",
              "  <thead>\n",
              "    <tr style=\"text-align: right;\">\n",
              "      <th></th>\n",
              "      <th>0</th>\n",
              "    </tr>\n",
              "  </thead>\n",
              "  <tbody>\n",
              "    <tr>\n",
              "      <th>Date</th>\n",
              "      <td>datetime64[ns]</td>\n",
              "    </tr>\n",
              "    <tr>\n",
              "      <th>Product Name</th>\n",
              "      <td>object</td>\n",
              "    </tr>\n",
              "    <tr>\n",
              "      <th>Category</th>\n",
              "      <td>object</td>\n",
              "    </tr>\n",
              "    <tr>\n",
              "      <th>Units Sold</th>\n",
              "      <td>int64</td>\n",
              "    </tr>\n",
              "    <tr>\n",
              "      <th>Price</th>\n",
              "      <td>float64</td>\n",
              "    </tr>\n",
              "    <tr>\n",
              "      <th>Revenue</th>\n",
              "      <td>float64</td>\n",
              "    </tr>\n",
              "    <tr>\n",
              "      <th>Discount</th>\n",
              "      <td>float64</td>\n",
              "    </tr>\n",
              "    <tr>\n",
              "      <th>Units Returned</th>\n",
              "      <td>int64</td>\n",
              "    </tr>\n",
              "    <tr>\n",
              "      <th>Location</th>\n",
              "      <td>object</td>\n",
              "    </tr>\n",
              "    <tr>\n",
              "      <th>Platform</th>\n",
              "      <td>object</td>\n",
              "    </tr>\n",
              "    <tr>\n",
              "      <th>Month</th>\n",
              "      <td>period[M]</td>\n",
              "    </tr>\n",
              "  </tbody>\n",
              "</table>\n",
              "</div><br><label><b>dtype:</b> object</label>"
            ]
          },
          "metadata": {},
          "execution_count": 26
        }
      ]
    },
    {
      "cell_type": "code",
      "source": [
        "# Remove Duplicates\n",
        "df.drop_duplicates(inplace=True)"
      ],
      "metadata": {
        "id": "mDOdfxkZAif4"
      },
      "execution_count": 27,
      "outputs": []
    },
    {
      "cell_type": "code",
      "source": [
        "# Trim Whitespace(Extra spaces in strings )\n",
        "df['Product Name'] = df['Product Name'].str.strip()\n",
        "df['Category'] = df['Category'].str.strip()\n",
        "df['Location'] = df['Location'].str.strip()\n",
        "df['Platform'] = df['Platform'].str.strip()"
      ],
      "metadata": {
        "id": "BqDOpPJlA4xV"
      },
      "execution_count": 28,
      "outputs": []
    },
    {
      "cell_type": "code",
      "source": [
        "# Standardize Text, ensure consistent casing for categories or regions.\n",
        "df['Product Name'] = df['Product Name'].str.title()\n",
        "df['Category'] = df['Category'].str.title() # e.g., \"electronics\" → \"Electronics\"\n",
        "df['Location'] = df['Location'].str.title()\n",
        "df['Platform'] = df['Platform'].str.title()"
      ],
      "metadata": {
        "id": "wq5Q1DmzA-ik"
      },
      "execution_count": 19,
      "outputs": []
    },
    {
      "cell_type": "code",
      "source": [
        "# Add Useful Columns, even if data is clean, you can enhance it like adding the month\n",
        "df['Revenue'] = df['Price'] * df['Units Sold']\n",
        "df['Month'] = df['Date'].dt.to_period('M')"
      ],
      "metadata": {
        "id": "mJcuZRLeFDn5"
      },
      "execution_count": 31,
      "outputs": []
    },
    {
      "cell_type": "code",
      "source": [
        "print(df)"
      ],
      "metadata": {
        "colab": {
          "base_uri": "https://localhost:8080/"
        },
        "id": "-NAJdYq_CNN3",
        "outputId": "8e2ffa20-0cc3-4876-a98b-52541adc5e8b"
      },
      "execution_count": 32,
      "outputs": [
        {
          "output_type": "stream",
          "name": "stdout",
          "text": [
            "           Date        Product Name     Category  Units Sold  Price  Revenue  \\\n",
            "0    2020-01-06        Whey Protein      Protein         143  31.98  4573.14   \n",
            "1    2020-01-06           Vitamin C      Vitamin         139  42.51  5908.89   \n",
            "2    2020-01-06            Fish Oil        Omega         161  12.91  2078.51   \n",
            "3    2020-01-06        Multivitamin      Vitamin         140  16.07  2249.80   \n",
            "4    2020-01-06         Pre-Workout  Performance         157  35.47  5568.79   \n",
            "...         ...                 ...          ...         ...    ...      ...   \n",
            "4379 2025-03-31           Melatonin    Sleep Aid         160  47.79  7646.40   \n",
            "4380 2025-03-31              Biotin      Vitamin         154  38.12  5870.48   \n",
            "4381 2025-03-31   Green Tea Extract   Fat Burner         139  20.40  2835.60   \n",
            "4382 2025-03-31     Iron Supplement      Mineral         154  18.31  2819.74   \n",
            "4383 2025-03-31  Electrolyte Powder    Hydration         178  39.12  6963.36   \n",
            "\n",
            "      Discount  Units Returned Location Platform    Month  \n",
            "0         0.03               2   Canada  Walmart  2020-01  \n",
            "1         0.04               0       Uk   Amazon  2020-01  \n",
            "2         0.25               0   Canada   Amazon  2020-01  \n",
            "3         0.08               0   Canada  Walmart  2020-01  \n",
            "4         0.25               3   Canada    Iherb  2020-01  \n",
            "...        ...             ...      ...      ...      ...  \n",
            "4379      0.21               1      Usa    Iherb  2025-03  \n",
            "4380      0.22               1       Uk  Walmart  2025-03  \n",
            "4381      0.12               3      Usa    Iherb  2025-03  \n",
            "4382      0.23               2   Canada   Amazon  2025-03  \n",
            "4383      0.23               0       Uk    Iherb  2025-03  \n",
            "\n",
            "[4384 rows x 11 columns]\n"
          ]
        }
      ]
    },
    {
      "cell_type": "code",
      "source": [],
      "metadata": {
        "id": "1gDJvfJ_CQIC"
      },
      "execution_count": null,
      "outputs": []
    }
  ]
}